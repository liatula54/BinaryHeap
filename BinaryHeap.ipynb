{
  "nbformat": 4,
  "nbformat_minor": 0,
  "metadata": {
    "colab": {
      "name": "BinaryHeap.ipynb",
      "provenance": [],
      "authorship_tag": "ABX9TyOgnA3jcKmDAVzJIknQgRbv",
      "include_colab_link": true
    },
    "kernelspec": {
      "name": "python3",
      "display_name": "Python 3"
    }
  },
  "cells": [
    {
      "cell_type": "markdown",
      "metadata": {
        "id": "view-in-github",
        "colab_type": "text"
      },
      "source": [
        "<a href=\"https://colab.research.google.com/github/liatula54/BinaryHeap/blob/master/BinaryHeap.ipynb\" target=\"_parent\"><img src=\"https://colab.research.google.com/assets/colab-badge.svg\" alt=\"Open In Colab\"/></a>"
      ]
    },
    {
      "cell_type": "code",
      "metadata": {
        "id": "-IGZ915BhiMQ",
        "colab_type": "code",
        "colab": {}
      },
      "source": [
        "class BinHeap:\n",
        "\n",
        "  def __init__(self):\n",
        "    self.heapList = [0]\n",
        "    self.currentSize = 0\n",
        "\n",
        "  def percUp(self, i):\n",
        "    while i // 2 > 0:\n",
        "      if self.heapList[i] < self.heapList[i // 2]:\n",
        "        tmp = self.heapList[i // 2]\n",
        "        self.heapList[i // 2]  = self.heapList[i]\n",
        "        self.heapList[i] = tmp\n",
        "      i = i // 2\n",
        "\n",
        "  def insert(self, k):\n",
        "    self.heapList.append(k)\n",
        "    self.currentSize = self.currentSize + 1\n",
        "    self.percUp(self.currentSize)\n",
        "\n",
        "\n",
        "  def minChild(self , i)\n",
        "    if i * 2 + 1 > self.currentSize:\n",
        "      return i * 2\n",
        "    else:\n",
        "      if self.heapList[i*2]  < self.heapList[i*2+1]:\n",
        "          return i * 2\n",
        "      else:\n",
        "          return i * 2 + 1    \n",
        "\n",
        "\n",
        "  def percDown(self, i):\n",
        "    while(i * 2) <= self.currentSize:\n",
        "      mc = self.minChild(i)\n",
        "      if self.heapList[i] > self.heapList[mc]:\n",
        "          tmp = self.heapList[i]\n",
        "          self.heapList[i] = self.heapList[mc] \n",
        "          self.heapList[mc] = tmp  \n",
        "\n",
        "  def delMin(self):\n",
        "    #root is min value\n",
        "    retval = self.heapList[1]\n",
        "    self.heapList[1] = self.heapList[self.currentSize]\n",
        "    self.currentSize = self.currentSize - 1\n",
        "    self.heapList.pop()\n",
        "    self.percDown(1)\n",
        "    rerurn retval\n",
        "\n",
        "  def buildHeap(self,alist):\n",
        "        i = len(alist) // 2\n",
        "        self.currentSize = len(alist)\n",
        "        self.heapList = [0] + alist[:]\n",
        "        while (i > 0):\n",
        "            self.percDown(i)\n",
        "            i = i - 1  \n"
      ],
      "execution_count": null,
      "outputs": []
    }
  ]
}